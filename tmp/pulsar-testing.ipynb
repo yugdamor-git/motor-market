{
 "cells": [
  {
   "cell_type": "code",
   "execution_count": 3,
   "id": "0463792b",
   "metadata": {},
   "outputs": [
    {
     "name": "stderr",
     "output_type": "stream",
     "text": [
      "ERROR: Could not find a version that satisfies the requirement pulsar-client (from versions: none)\n",
      "ERROR: No matching distribution found for pulsar-client\n"
     ]
    }
   ],
   "source": [
    "!python -m pip install pulsar-client==2.9.1"
   ]
  },
  {
   "cell_type": "code",
   "execution_count": 3,
   "id": "e15e2baf",
   "metadata": {},
   "outputs": [
    {
     "name": "stdout",
     "output_type": "stream",
     "text": [
      "Collecting pip\n",
      "  Using cached https://files.pythonhosted.org/packages/4d/16/0a14ca596f30316efd412a60bdfac02a7259bf8673d4d917dc60b9a21812/pip-22.0.4-py3-none-any.whl\n",
      "Installing collected packages: pip\n",
      "  Found existing installation: pip 10.0.1\n",
      "    Uninstalling pip-10.0.1:\n",
      "      Successfully uninstalled pip-10.0.1\n",
      "Successfully installed pip-22.0.4\n"
     ]
    }
   ],
   "source": [
    "!python -m pip install --upgrade pip"
   ]
  },
  {
   "cell_type": "code",
   "execution_count": 4,
   "id": "2125c8ec",
   "metadata": {},
   "outputs": [],
   "source": [
    "import pulsar\n",
    "import json"
   ]
  },
  {
   "cell_type": "code",
   "execution_count": 5,
   "id": "3f97deae",
   "metadata": {},
   "outputs": [],
   "source": [
    "uri = f'pulsar://localhost:5002'"
   ]
  },
  {
   "cell_type": "code",
   "execution_count": 9,
   "id": "3a42d54b",
   "metadata": {},
   "outputs": [
    {
     "ename": "AttributeError",
     "evalue": "module 'pulsar' has no attribute 'Client'",
     "output_type": "error",
     "traceback": [
      "\u001b[1;31m---------------------------------------------------------------------------\u001b[0m",
      "\u001b[1;31mAttributeError\u001b[0m                            Traceback (most recent call last)",
      "Input \u001b[1;32mIn [9]\u001b[0m, in \u001b[0;36m<cell line: 1>\u001b[1;34m()\u001b[0m\n\u001b[1;32m----> 1\u001b[0m client \u001b[38;5;241m=\u001b[39m \u001b[43mpulsar\u001b[49m\u001b[38;5;241;43m.\u001b[39;49m\u001b[43mClient\u001b[49m(uri)\n",
      "\u001b[1;31mAttributeError\u001b[0m: module 'pulsar' has no attribute 'Client'"
     ]
    }
   ],
   "source": [
    "client = pulsar.Client(uri)"
   ]
  },
  {
   "cell_type": "code",
   "execution_count": 6,
   "id": "77640164",
   "metadata": {},
   "outputs": [],
   "source": [
    "message = {\"id\":\"202203073292941\"}"
   ]
  },
  {
   "cell_type": "code",
   "execution_count": 7,
   "id": "f75cd896",
   "metadata": {},
   "outputs": [],
   "source": [
    "topic = \"motormarket.scrapers.autotrader.listing.scrape\""
   ]
  },
  {
   "cell_type": "code",
   "execution_count": 8,
   "id": "f9f3b4ac",
   "metadata": {},
   "outputs": [
    {
     "ename": "NameError",
     "evalue": "name 'client' is not defined",
     "output_type": "error",
     "traceback": [
      "\u001b[1;31m---------------------------------------------------------------------------\u001b[0m",
      "\u001b[1;31mNameError\u001b[0m                                 Traceback (most recent call last)",
      "Input \u001b[1;32mIn [8]\u001b[0m, in \u001b[0;36m<cell line: 1>\u001b[1;34m()\u001b[0m\n\u001b[1;32m----> 1\u001b[0m producer \u001b[38;5;241m=\u001b[39m \u001b[43mclient\u001b[49m\u001b[38;5;241m.\u001b[39mcreate_producer(topic)\n\u001b[0;32m      3\u001b[0m producer\u001b[38;5;241m.\u001b[39msend(json\u001b[38;5;241m.\u001b[39mdumps(message))\n\u001b[0;32m      5\u001b[0m client\u001b[38;5;241m.\u001b[39mclose()\n",
      "\u001b[1;31mNameError\u001b[0m: name 'client' is not defined"
     ]
    }
   ],
   "source": [
    "producer = client.create_producer(topic)\n",
    "\n",
    "producer.send(json.dumps(message))\n",
    "\n",
    "client.close()"
   ]
  },
  {
   "cell_type": "code",
   "execution_count": 4,
   "id": "f0056194",
   "metadata": {},
   "outputs": [
    {
     "data": {
      "text/plain": [
       "{'dealerName': 'Surecar Direct',\n",
       " 'dealerNumber': '(0117) 444 9154',\n",
       " 'dealerLocation': 'BS16 3AE',\n",
       " 'location': 'BS16 3AE',\n",
       " 'dealerId': '140642',\n",
       " 'wheelBase': None,\n",
       " 'cabType': 'Unlisted',\n",
       " 'make': 'Nissan',\n",
       " 'model': 'Leaf',\n",
       " 'engineCylinders': 0,\n",
       " 'built': 2017,\n",
       " 'seats': None,\n",
       " 'mileage': 68767,\n",
       " 'fuel': 'Electric',\n",
       " 'registration': 'CP17RKY',\n",
       " 'writeOffCategory': None,\n",
       " 'doors': 5,\n",
       " 'bodyStyle': 'Hatchback',\n",
       " 'price': 11795,\n",
       " 'priceIndicator': 'Great price',\n",
       " 'adminFee': None,\n",
       " 'trim': 'Acenta',\n",
       " 'vehicleType': 'Car',\n",
       " 'emissionScheme': True,\n",
       " 'transmission': 'Automatic',\n",
       " 'id': '202203073292941',\n",
       " 'images': [{'url': 'https://m.atcdn.co.uk/a/media/{resize}/7371bb4065e94c8c94f29a52426bae59.jpg'},\n",
       "  {'url': 'https://m.atcdn.co.uk/a/media/{resize}/aef03090e4984e70a06e42bd24a799e7.jpg'},\n",
       "  {'url': 'https://m.atcdn.co.uk/a/media/{resize}/46575b5c1c734bfb88bf9f0e8c75d879.jpg'},\n",
       "  {'url': 'https://m.atcdn.co.uk/a/media/{resize}/357bab362d504b1c83274907568b5788.jpg'},\n",
       "  {'url': 'https://m.atcdn.co.uk/a/media/{resize}/b3d64053a6e1432f8e1663963372a8bd.jpg'},\n",
       "  {'url': 'https://m.atcdn.co.uk/a/media/{resize}/3e316d7fec9b4fba86c1450cc670ce06.jpg'},\n",
       "  {'url': 'https://m.atcdn.co.uk/a/media/{resize}/89cc3de43c6e46d2b8fc8e8f55a244ae.jpg'},\n",
       "  {'url': 'https://m.atcdn.co.uk/a/media/{resize}/9efa5a8ba0d34f0faea78bcd469eacd5.jpg'},\n",
       "  {'url': 'https://m.atcdn.co.uk/a/media/{resize}/dfe36a3bc09543ffbc5c8083b130fdf3.jpg'},\n",
       "  {'url': 'https://m.atcdn.co.uk/a/media/{resize}/de58bf92aabe4d488ca3ae6a046a01f1.jpg'},\n",
       "  {'url': 'https://m.atcdn.co.uk/a/media/{resize}/02a15145efca43208c8d88ce2cd85b77.jpg'},\n",
       "  {'url': 'https://m.atcdn.co.uk/a/media/{resize}/9fb42be5ee594cc3baf04df7df8d9727.jpg'},\n",
       "  {'url': 'https://m.atcdn.co.uk/a/media/{resize}/b5b4611ec7564843a2694d681c99fc47.jpg'},\n",
       "  {'url': 'https://m.atcdn.co.uk/a/media/{resize}/d24da7f668a54e1e8edfcbef7c73688b.jpg'},\n",
       "  {'url': 'https://m.atcdn.co.uk/a/media/{resize}/59b629024f6d407da0d42fcad9ed1931.jpg'},\n",
       "  {'url': 'https://m.atcdn.co.uk/a/media/{resize}/74a92f2e3dcd464a9259f907f7945814.jpg'},\n",
       "  {'url': 'https://m.atcdn.co.uk/a/media/{resize}/9317523d650847c683374e63cf29c727.jpg'},\n",
       "  {'url': 'https://m.atcdn.co.uk/a/media/{resize}/8cf128fa4bd3467b86c61cd1e38a4dcd.jpg'},\n",
       "  {'url': 'https://m.atcdn.co.uk/a/media/{resize}/f4f5dc8e63a848338c4b2639e4293ac7.jpg'},\n",
       "  {'url': 'https://m.atcdn.co.uk/a/media/{resize}/14251bb8d6ee48b8b16fbccd51f0b585.jpg'}]}"
      ]
     },
     "execution_count": 4,
     "metadata": {},
     "output_type": "execute_result"
    }
   ],
   "source": [
    "{'dealerName': 'Surecar Direct', 'dealerNumber': '(0117) 444 9154', 'dealerLocation': 'BS16 3AE', 'location': 'BS16 3AE', 'dealerId': '140642', 'wheelBase': None, 'cabType': 'Unlisted', 'make': 'Nissan', 'model': 'Leaf', 'engineCylinders': 0, 'built': 2017, 'seats': None, 'mileage': 68767, 'fuel': 'Electric', 'registration': 'CP17RKY', 'writeOffCategory': None, 'doors': 5, 'bodyStyle': 'Hatchback', 'price': 11795, 'priceIndicator': 'Great price', 'adminFee': None, 'trim': 'Acenta', 'vehicleType': 'Car', 'emissionScheme': True, 'transmission': 'Automatic', 'id': '202203073292941', 'images': [{'url': 'https://m.atcdn.co.uk/a/media/{resize}/7371bb4065e94c8c94f29a52426bae59.jpg'}, {'url': 'https://m.atcdn.co.uk/a/media/{resize}/aef03090e4984e70a06e42bd24a799e7.jpg'}, {'url': 'https://m.atcdn.co.uk/a/media/{resize}/46575b5c1c734bfb88bf9f0e8c75d879.jpg'}, {'url': 'https://m.atcdn.co.uk/a/media/{resize}/357bab362d504b1c83274907568b5788.jpg'}, {'url': 'https://m.atcdn.co.uk/a/media/{resize}/b3d64053a6e1432f8e1663963372a8bd.jpg'}, {'url': 'https://m.atcdn.co.uk/a/media/{resize}/3e316d7fec9b4fba86c1450cc670ce06.jpg'}, {'url': 'https://m.atcdn.co.uk/a/media/{resize}/89cc3de43c6e46d2b8fc8e8f55a244ae.jpg'}, {'url': 'https://m.atcdn.co.uk/a/media/{resize}/9efa5a8ba0d34f0faea78bcd469eacd5.jpg'}, {'url': 'https://m.atcdn.co.uk/a/media/{resize}/dfe36a3bc09543ffbc5c8083b130fdf3.jpg'}, {'url': 'https://m.atcdn.co.uk/a/media/{resize}/de58bf92aabe4d488ca3ae6a046a01f1.jpg'}, {'url': 'https://m.atcdn.co.uk/a/media/{resize}/02a15145efca43208c8d88ce2cd85b77.jpg'}, {'url': 'https://m.atcdn.co.uk/a/media/{resize}/9fb42be5ee594cc3baf04df7df8d9727.jpg'}, \n",
    "{'url': 'https://m.atcdn.co.uk/a/media/{resize}/b5b4611ec7564843a2694d681c99fc47.jpg'}, {'url': 'https://m.atcdn.co.uk/a/media/{resize}/d24da7f668a54e1e8edfcbef7c73688b.jpg'}, {'url': 'https://m.atcdn.co.uk/a/media/{resize}/59b629024f6d407da0d42fcad9ed1931.jpg'}, {'url': 'https://m.atcdn.co.uk/a/media/{resize}/74a92f2e3dcd464a9259f907f7945814.jpg'}, {'url': 'https://m.atcdn.co.uk/a/media/{resize}/9317523d650847c683374e63cf29c727.jpg'}, {'url': 'https://m.atcdn.co.uk/a/media/{resize}/8cf128fa4bd3467b86c61cd1e38a4dcd.jpg'}, {'url': 'https://m.atcdn.co.uk/a/media/{resize}/f4f5dc8e63a848338c4b2639e4293ac7.jpg'}, {'url': 'https://m.atcdn.co.uk/a/media/{resize}/14251bb8d6ee48b8b16fbccd51f0b585.jpg'}]}"
   ]
  },
  {
   "cell_type": "code",
   "execution_count": 5,
   "id": "34d9b438",
   "metadata": {},
   "outputs": [
    {
     "data": {
      "text/plain": [
       "'Bmw A8 T'"
      ]
     },
     "execution_count": 5,
     "metadata": {},
     "output_type": "execute_result"
    }
   ],
   "source": [
    "\"bmw a8 t\".title()"
   ]
  },
  {
   "cell_type": "code",
   "execution_count": null,
   "id": "4e299b1d",
   "metadata": {},
   "outputs": [],
   "source": [
    "temp_dict['transmission_org'] = temp_dict['transmission']\n",
    "    if temp_dict['transmission'] != None:\n",
    "        if temp_dict['transmission'].lower() == 'automatic':\n",
    "          temp_dict['transmission'] = 1\n",
    "        elif temp_dict['transmission'].lower() == 'manual':\n",
    "          temp_dict['transmission'] = 2\n",
    "        elif temp_dict['transmission'].lower() == 'automanual':\n",
    "          temp_dict['transmission'] = 3\n",
    "        elif temp_dict['transmission'].lower() == 'auto':\n",
    "          temp_dict['transmission'] = 1\n",
    "        elif temp_dict['transmission'].lower() == 'auto clutch':\n",
    "          temp_dict['transmission'] = 1\n",
    "        elif temp_dict['transmission'].lower() == 'auto/manual mode':\n",
    "          temp_dict['transmission'] = 1\n",
    "        elif temp_dict['transmission'].lower() == 'cvt':\n",
    "          temp_dict['transmission'] = 1\n",
    "        elif temp_dict['transmission'].lower() == 'cvt/manual mode':\n",
    "          temp_dict['transmission'] = 1\n",
    "        elif temp_dict['transmission'].lower() == 'manual transmission':\n",
    "          temp_dict['transmission'] = 2\n",
    "        elif temp_dict['transmission'].lower() == 'semi-automatic':\n",
    "          temp_dict['transmission'] = 1\n",
    "        elif temp_dict['transmission'].lower() == 'sequential':\n",
    "          temp_dict['transmission'] = 1\n",
    "        else:\n",
    "          temp_dict['transmission'] = 4\n",
    "\n",
    "    return temp_dict"
   ]
  },
  {
   "cell_type": "code",
   "execution_count": null,
   "id": "8ae72d65",
   "metadata": {},
   "outputs": [],
   "source": [
    "temp_dict['fuel'] = temp_dict['fuel'].lower()\n",
    "\n",
    "    if temp_dict['fuel'] == 'petrol':\n",
    "      temp_dict['fuel'] = 1\n",
    "    elif temp_dict['fuel'] == 'diesel':\n",
    "      temp_dict['fuel'] = 2\n",
    "    elif temp_dict['fuel'] == 'gas':\n",
    "      temp_dict['fuel'] = 3\n",
    "    elif temp_dict['fuel'] == 'hybrid':\n",
    "      temp_dict['fuel'] = 5\n",
    "    elif temp_dict['fuel'] == 'electric':\n",
    "      temp_dict['fuel'] = 6\n",
    "    #Hybrid – Petrol/Electric Plug-in\n",
    "    elif temp_dict['fuel'] == 'hybrid – petrol/elec' or 'hybrid –' in temp_dict['fuel']:\n",
    "      temp_dict['fuel'] = 7\n",
    "    else:\n",
    "      temp_dict['fuel'] = 4\n",
    "    return temp_dict"
   ]
  },
  {
   "cell_type": "code",
   "execution_count": 6,
   "id": "8fc74683",
   "metadata": {},
   "outputs": [
    {
     "data": {
      "text/plain": [
       "True"
      ]
     },
     "execution_count": 6,
     "metadata": {},
     "output_type": "execute_result"
    }
   ],
   "source": [
    "\"9\".isdigit()"
   ]
  },
  {
   "cell_type": "code",
   "execution_count": null,
   "id": "bcd68119",
   "metadata": {},
   "outputs": [],
   "source": []
  }
 ],
 "metadata": {
  "kernelspec": {
   "display_name": "Python 3 (ipykernel)",
   "language": "python",
   "name": "python3"
  },
  "language_info": {
   "codemirror_mode": {
    "name": "ipython",
    "version": 3
   },
   "file_extension": ".py",
   "mimetype": "text/x-python",
   "name": "python",
   "nbconvert_exporter": "python",
   "pygments_lexer": "ipython3",
   "version": "3.7.0"
  }
 },
 "nbformat": 4,
 "nbformat_minor": 5
}
